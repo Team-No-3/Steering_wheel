{
 "cells": [
  {
   "cell_type": "code",
   "execution_count": null,
   "id": "4cbd6f81",
   "metadata": {},
   "outputs": [],
   "source": [
    "!nvidia-smi"
   ]
  },
  {
   "cell_type": "code",
   "execution_count": null,
   "id": "382a0d96",
   "metadata": {},
   "outputs": [],
   "source": [
    "import numpy as np\n",
    "import matplotlib.pyplot as plt\n",
    "from tqdm import tqdm\n",
    "import anogan\n",
    "import os\n",
    "import tensorflow as tf"
   ]
  },
  {
   "cell_type": "code",
   "execution_count": null,
   "id": "a5d09708",
   "metadata": {},
   "outputs": [],
   "source": [
    "#현재작업경로\n",
    "os.getcwd()"
   ]
  },
  {
   "cell_type": "code",
   "execution_count": null,
   "id": "423bacfd",
   "metadata": {},
   "outputs": [],
   "source": [
    "tf.config.list_physical_devices('GPU')"
   ]
  },
  {
   "cell_type": "code",
   "execution_count": null,
   "id": "18edac9e",
   "metadata": {},
   "outputs": [],
   "source": [
    "import os\n",
    "import numpy as np\n",
    "import matplotlib.pyplot as plt\n",
    "import math\n",
    "import pickle\n",
    "import cv2\n",
    "from skimage import color\n",
    "from skimage import io\n",
    "import random\n",
    "\n",
    "os.environ['KMP_DUPLICATE_LIB_OK']='True'\n",
    "%matplotlib inline"
   ]
  },
  {
   "cell_type": "code",
   "execution_count": null,
   "id": "87e85052",
   "metadata": {},
   "outputs": [],
   "source": [
    "#생성자가 생성할 이미지의 세로\n",
    "img_rows = 256\n",
    "#생성자가 생성할 이미지의 가로\n",
    "img_cols = 256\n",
    "#생성자가 생성할 이미지 채널 (3 = 컬러이미지)\n",
    "#시간관계상 1로 해서 흑백으로 진행\n",
    "channels = 1\n",
    "\n",
    "# 판별자가 판별할 이미지의 세로 가로 채널\n",
    "img_shape = (img_rows, img_cols, channels)\n",
    "\n",
    "# 생성자가 이미지를 생성할 초기 노이즈 개수\n",
    "z_dim = 256\n",
    "\n",
    "#이미지 파일 경로\n",
    "# image_path = \"/tf/notebooks/anogan/anogan with handle data/test/\""
   ]
  },
  {
   "cell_type": "code",
   "execution_count": null,
   "id": "7f27ba74",
   "metadata": {},
   "outputs": [],
   "source": [
    "import cv2\n",
    "import matplotlib.pyplot as plt\n",
    "path = \"/tf/notebooks/anogan/anogan with handle data/img/\"\n",
    "os.chdir(path) \n",
    "files = os.listdir(path) "
   ]
  },
  {
   "cell_type": "code",
   "execution_count": null,
   "id": "9f969fc1",
   "metadata": {},
   "outputs": [],
   "source": [
    "jpg_img = []\n",
    "png_img = []\n",
    "for file in files:\n",
    "    if '.jpg' in file: \n",
    "        f = cv2.imread(file)\n",
    "        jpg_img.append(f)\n",
    "    if '.png' in file:\n",
    "        p = cv2.imread(file)\n",
    "        png_img.append(p)"
   ]
  },
  {
   "cell_type": "code",
   "execution_count": null,
   "id": "1332bd93",
   "metadata": {},
   "outputs": [],
   "source": [
    "data = np.stack([jpg_img], 0)"
   ]
  },
  {
   "cell_type": "code",
   "execution_count": null,
   "id": "1ed0d640",
   "metadata": {},
   "outputs": [],
   "source": [
    "data = color.rgb2gray(data)"
   ]
  },
  {
   "cell_type": "code",
   "execution_count": null,
   "id": "13feca00",
   "metadata": {},
   "outputs": [],
   "source": [
    "\n",
    "# data = data / 255.0\n",
    "\n",
    "data = data.reshape(-1 ,256, 256, 1)"
   ]
  },
  {
   "cell_type": "code",
   "execution_count": null,
   "id": "c70f70da",
   "metadata": {},
   "outputs": [],
   "source": [
    "data.shape"
   ]
  },
  {
   "cell_type": "code",
   "execution_count": null,
   "id": "39baafb2",
   "metadata": {},
   "outputs": [],
   "source": [
    "# X_train = load_images(image_path)"
   ]
  },
  {
   "cell_type": "code",
   "execution_count": null,
   "id": "b916dd6f",
   "metadata": {},
   "outputs": [],
   "source": [
    "# X_train.shape"
   ]
  },
  {
   "cell_type": "code",
   "execution_count": null,
   "id": "0c2a18a1",
   "metadata": {},
   "outputs": [],
   "source": [
    "X_test = data"
   ]
  },
  {
   "cell_type": "code",
   "execution_count": null,
   "id": "60e5aa54",
   "metadata": {},
   "outputs": [],
   "source": [
    "plt.imshow(X_test[0])"
   ]
  },
  {
   "cell_type": "code",
   "execution_count": null,
   "id": "f8aa8c7b",
   "metadata": {},
   "outputs": [],
   "source": [
    "\n",
    "# X_train = data\n",
    "\n",
    "# iterations = 200000\n",
    "# batch_size = 4\n",
    "# sample_interval = 2000\n",
    "\n",
    "# anogan.train(iterations, batch_size, sample_interval, X_train)\n"
   ]
  },
  {
   "cell_type": "code",
   "execution_count": null,
   "id": "b5c2997c",
   "metadata": {},
   "outputs": [],
   "source": [
    "anogan.generate(100)"
   ]
  },
  {
   "cell_type": "code",
   "execution_count": null,
   "id": "6f900d3e",
   "metadata": {},
   "outputs": [],
   "source": [
    "import cv2\n",
    "import matplotlib.pyplot as plt\n",
    "path = \"/tf/notebooks/anogan/anogan with handle data/test/\"\n",
    "os.chdir(path) \n",
    "files = os.listdir(path) "
   ]
  },
  {
   "cell_type": "code",
   "execution_count": null,
   "id": "202abd6d",
   "metadata": {},
   "outputs": [],
   "source": [
    "jpg_img = []\n",
    "png_img = []\n",
    "for file in files:\n",
    "    if '.jpg' in file: \n",
    "        f = cv2.imread(file)\n",
    "        jpg_img.append(f)\n",
    "    if '.png' in file:\n",
    "        p = cv2.imread(file)\n",
    "        png_img.append(p)"
   ]
  },
  {
   "cell_type": "code",
   "execution_count": null,
   "id": "cca1f661",
   "metadata": {},
   "outputs": [],
   "source": [
    "data1 = np.stack([jpg_img], 0)"
   ]
  },
  {
   "cell_type": "code",
   "execution_count": null,
   "id": "14acb013",
   "metadata": {},
   "outputs": [],
   "source": [
    "data1 = color.rgb2gray(data1)"
   ]
  },
  {
   "cell_type": "code",
   "execution_count": null,
   "id": "891628a4",
   "metadata": {},
   "outputs": [],
   "source": [
    "\n",
    "# data = data / 255.0\n",
    "\n",
    "data1 = data1.reshape(-1 ,256, 256, 1)"
   ]
  },
  {
   "cell_type": "code",
   "execution_count": null,
   "id": "c0ef0b01",
   "metadata": {},
   "outputs": [],
   "source": [
    "X_test1 = data1"
   ]
  },
  {
   "cell_type": "code",
   "execution_count": null,
   "id": "5dc51ead",
   "metadata": {},
   "outputs": [],
   "source": [
    "## compute anomaly score - sample from test set\n",
    "\n",
    "X_test1 = X_test1.astype(np.float32)/255.\n",
    "X_test1 = X_test1.reshape(-1, 256, 256, 1)\n",
    "test_img = X_test1[0]\n",
    "\n",
    "model = anogan.anomaly_detector()\n",
    "ano_score, similar_img = anogan1.compute_anomaly_score(model, test_img.reshape(1, 256, 256, 1))\n",
    "25\n",
    "plt.figure(figsize=(2, 2))\n",
    "plt.imshow(test_img.reshape(256,256), cmap=plt.cm.gray)\n",
    "plt.show()\n",
    "print(\"anomaly score : \" + str(ano_score))\n",
    "plt.figure(figsize=(2, 2))\n",
    "plt.imshow(test_img.reshape(256,256), cmap=plt.cm.gray)\n",
    "residual  = test_img.reshape(256,256) - similar_img.reshape(256, 256)\n",
    "plt.imshow(residual, cmap='jet', alpha=.5)\n",
    "plt.show()"
   ]
  },
  {
   "cell_type": "code",
   "execution_count": null,
   "id": "bae5bd69",
   "metadata": {},
   "outputs": [],
   "source": [
    "## compute anomaly score - sample from test set\n",
    "\n",
    "X_test1 = X_test1.astype(np.float32)/255.\n",
    "X_test1 = X_test1.reshape(-1, 256, 256, 1)\n",
    "test_img = X_test1[1]\n",
    "\n",
    "model = anogan.anomaly_detector()\n",
    "ano_score, similar_img = anogan1.compute_anomaly_score(model, test_img.reshape(1, 256, 256, 1))\n",
    "25\n",
    "plt.figure(figsize=(2, 2))\n",
    "plt.imshow(test_img.reshape(256,256), cmap=plt.cm.gray)\n",
    "plt.show()\n",
    "print(\"anomaly score : \" + str(ano_score))\n",
    "plt.figure(figsize=(2, 2))\n",
    "plt.imshow(test_img.reshape(256,256), cmap=plt.cm.gray)\n",
    "residual  = test_img.reshape(256,256) - similar_img.reshape(256, 256)\n",
    "plt.imshow(residual, cmap='jet', alpha=.5)\n",
    "plt.show()"
   ]
  },
  {
   "cell_type": "code",
   "execution_count": null,
   "id": "7d487c90",
   "metadata": {},
   "outputs": [],
   "source": [
    "data2 = np.stack([png_img], 0)"
   ]
  },
  {
   "cell_type": "code",
   "execution_count": null,
   "id": "ca42cf5b",
   "metadata": {},
   "outputs": [],
   "source": [
    "\n",
    "# data = data / 255.0\n",
    "\n",
    "data2 = data2.reshape(-1 ,256, 256, 1)"
   ]
  },
  {
   "cell_type": "code",
   "execution_count": null,
   "id": "1ddb261f",
   "metadata": {},
   "outputs": [],
   "source": [
    "X_test2 = data2"
   ]
  },
  {
   "cell_type": "code",
   "execution_count": null,
   "id": "474852ac",
   "metadata": {},
   "outputs": [],
   "source": [
    "X_test2.shape"
   ]
  },
  {
   "cell_type": "code",
   "execution_count": null,
   "id": "1add33a2",
   "metadata": {},
   "outputs": [],
   "source": [
    "## compute anomaly score - sample from test set\n",
    "\n",
    "X_test2 = X_test2.astype(np.float32)/255.\n",
    "X_test2 = X_test2.reshape(-1, 256, 256, 1)\n",
    "test_img = X_test2[0]\n",
    "\n",
    "model = anogan.anomaly_detector()\n",
    "ano_score, similar_img = anogan1.compute_anomaly_score(model, test_img.reshape(1, 256, 256, 1))\n",
    "25\n",
    "plt.figure(figsize=(2, 2))\n",
    "plt.imshow(test_img.reshape(256,256), cmap=plt.cm.gray)\n",
    "plt.show()\n",
    "print(\"anomaly score : \" + str(ano_score))\n",
    "plt.figure(figsize=(2, 2))\n",
    "plt.imshow(test_img.reshape(256,256), cmap=plt.cm.gray)\n",
    "residual  = test_img.reshape(256,256) - similar_img.reshape(256, 256)\n",
    "plt.imshow(residual, cmap='jet', alpha=.5)\n",
    "plt.show()"
   ]
  },
  {
   "cell_type": "code",
   "execution_count": null,
   "id": "8d3978e0",
   "metadata": {},
   "outputs": [],
   "source": [
    "import cv2\n",
    "import matplotlib.pyplot as plt\n",
    "path = \"/tf/notebooks/anogan/anogan with handle data/test1/\"\n",
    "os.chdir(path) \n",
    "files = os.listdir(path) "
   ]
  },
  {
   "cell_type": "code",
   "execution_count": null,
   "id": "8f861f84",
   "metadata": {},
   "outputs": [],
   "source": [
    "jpg = []\n",
    "png = []\n",
    "for file in files:\n",
    "    if '.jpg' in file: \n",
    "        f = cv2.imread(file)\n",
    "        jpg.append(f)\n",
    "    if '.png' in file:\n",
    "        p = cv2.imread(file)\n",
    "        png.append(p)"
   ]
  },
  {
   "cell_type": "code",
   "execution_count": null,
   "id": "7a21afb1",
   "metadata": {},
   "outputs": [],
   "source": [
    "jpg_img = []\n",
    "png_img = []\n",
    "for file in files:\n",
    "    if '.jpg' in file: \n",
    "        f = cv2.imread(file)\n",
    "        jpg_img.append(f)\n",
    "    if '.png' in file:\n",
    "        p = cv2.imread(file)\n",
    "        png_img.append(p)"
   ]
  },
  {
   "cell_type": "code",
   "execution_count": null,
   "id": "2b6313c6",
   "metadata": {},
   "outputs": [],
   "source": [
    "data3 = np.stack([jpg], 0)"
   ]
  },
  {
   "cell_type": "code",
   "execution_count": null,
   "id": "85252bce",
   "metadata": {},
   "outputs": [],
   "source": [
    "data3 = color.rgb2gray(data3)"
   ]
  },
  {
   "cell_type": "code",
   "execution_count": null,
   "id": "89481846",
   "metadata": {},
   "outputs": [],
   "source": [
    "\n",
    "# data = data / 255.0\n",
    "\n",
    "data3 = data3.reshape(-1 ,256, 256, 1)"
   ]
  },
  {
   "cell_type": "code",
   "execution_count": null,
   "id": "874164fd",
   "metadata": {},
   "outputs": [],
   "source": [
    "#이미지를 읽어서 X_train에 저장\n",
    "X_test3 = data3"
   ]
  },
  {
   "cell_type": "code",
   "execution_count": null,
   "id": "92e7803e",
   "metadata": {},
   "outputs": [],
   "source": [
    "X_test3.shape"
   ]
  },
  {
   "cell_type": "code",
   "execution_count": null,
   "id": "967b458a",
   "metadata": {},
   "outputs": [],
   "source": [
    "## compute anomaly score - sample from test set\n",
    "\n",
    "X_test3 = X_test3.astype(np.float32)/255.\n",
    "X_test3 = X_test3.reshape(-1, 256, 256, 1)\n",
    "test_img = X_test3[0]\n",
    "\n",
    "model = anogan1.anomaly_detector()\n",
    "ano_score, similar_img = anogan1.compute_anomaly_score(model, test_img.reshape(1, 256, 256, 1))\n",
    "25\n",
    "plt.figure(figsize=(2, 2))\n",
    "plt.imshow(test_img.reshape(256,256), cmap=plt.cm.gray)\n",
    "plt.show()\n",
    "print(\"anomaly score : \" + str(ano_score))\n",
    "plt.figure(figsize=(2, 2))\n",
    "plt.imshow(test_img.reshape(256,256), cmap=plt.cm.gray)\n",
    "residual  = test_img.reshape(256,256) - similar_img.reshape(256, 256)\n",
    "plt.imshow(residual, cmap='jet', alpha=.5)\n",
    "plt.show()"
   ]
  },
  {
   "cell_type": "code",
   "execution_count": null,
   "id": "83732a6e",
   "metadata": {},
   "outputs": [],
   "source": []
  }
 ],
 "metadata": {
  "kernelspec": {
   "display_name": "Python 3 (ipykernel)",
   "language": "python",
   "name": "python3"
  },
  "language_info": {
   "codemirror_mode": {
    "name": "ipython",
    "version": 3
   },
   "file_extension": ".py",
   "mimetype": "text/x-python",
   "name": "python",
   "nbconvert_exporter": "python",
   "pygments_lexer": "ipython3",
   "version": "3.9.13"
  }
 },
 "nbformat": 4,
 "nbformat_minor": 5
}
