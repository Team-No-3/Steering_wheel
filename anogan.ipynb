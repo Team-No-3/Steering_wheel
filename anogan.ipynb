{
  "nbformat": 4,
  "nbformat_minor": 0,
  "metadata": {
    "colab": {
      "provenance": [],
      "collapsed_sections": [],
      "include_colab_link": true
    },
    "kernelspec": {
      "name": "python3",
      "display_name": "Python 3"
    },
    "language_info": {
      "name": "python"
    },
    "accelerator": "GPU",
    "gpuClass": "standard"
  },
  "cells": [
    {
      "cell_type": "markdown",
      "metadata": {
        "id": "view-in-github",
        "colab_type": "text"
      },
      "source": [
        "<a href=\"https://colab.research.google.com/github/Team-No-3/Steering_wheel/blob/main/anogan.ipynb\" target=\"_parent\"><img src=\"https://colab.research.google.com/assets/colab-badge.svg\" alt=\"Open In Colab\"/></a>"
      ]
    },
    {
      "cell_type": "code",
      "source": [
        "!pip install -q \"tqdm>=4.36.1\"\n",
        "!pip install tensorflow-addons==0.8.3"
      ],
      "metadata": {
        "id": "HgTJVtHSnAPi"
      },
      "execution_count": null,
      "outputs": []
    },
    {
      "cell_type": "code",
      "source": [
        "from tensorflow import keras\n",
        "import matplotlib.pyplot as plt\n",
        "import tensorflow as tf\n",
        "import tensorflow_addons as tfa\n",
        "import pandas as pd\n",
        "import numpy as np\n",
        "import cv2\n",
        "from tensorflow.keras.utils import to_categorical\n",
        "import sklearn\n",
        "from tqdm import tqdm\n",
        "import imgaug.augmenters as iaa\n",
        "import imgaug as ia\n",
        "from tensorflow.keras.optimizers import Adam\n",
        "import imageio"
      ],
      "metadata": {
        "id": "Qfi09E89nDgy"
      },
      "execution_count": null,
      "outputs": []
    },
    {
      "cell_type": "code",
      "execution_count": null,
      "metadata": {
        "id": "eBElSjT80Dzx"
      },
      "outputs": [],
      "source": [
        "from google.colab import drive\n",
        "drive.mount('/content/drive')"
      ]
    },
    {
      "cell_type": "code",
      "source": [
        "import matplotlib.pyplot as plt\n",
        "from tensorflow.keras.layers import Activation, BatchNormalization, Dense, Dropout, Flatten, Reshape\n",
        "from tensorflow.keras.layers import LeakyReLU\n",
        "from tensorflow.keras.layers import Conv2D, Conv2DTranspose\n",
        "from tensorflow.keras.models import Sequential\n",
        "from tensorflow.keras.optimizers import Adam\n",
        "from tensorflow.keras.utils import plot_model\n",
        "from tensorflow.keras.utils import load_img\n",
        "import os\n",
        "import cv2"
      ],
      "metadata": {
        "id": "Zmu2nC4MBgVW"
      },
      "execution_count": null,
      "outputs": []
    },
    {
      "cell_type": "code",
      "source": [
        "from tensorflow.keras.models import Sequential\n",
        "from keras.layers import Dropout\n",
        "from tensorflow.keras.layers import Flatten\n",
        "from tensorflow.keras.layers import Dense\n",
        "from tensorflow.keras.layers import TimeDistributed\n",
        "from tensorflow.keras.layers import LSTM\n",
        "from tensorflow.keras.layers import GRU"
      ],
      "metadata": {
        "id": "WP6_SbNUnoMN"
      },
      "execution_count": null,
      "outputs": []
    },
    {
      "cell_type": "code",
      "execution_count": null,
      "metadata": {
        "id": "OE3gQwCA85fG"
      },
      "outputs": [],
      "source": [
        "import tensorflow as tf\n",
        "from tensorflow.keras.applications import Xception\n",
        "from tensorflow.keras import datasets, layers, models"
      ]
    },
    {
      "cell_type": "code",
      "source": [
        "data_path = \"/content/drive/MyDrive/project_3/cnn/\""
      ],
      "metadata": {
        "id": "y81stJHsLGWY"
      },
      "execution_count": null,
      "outputs": []
    },
    {
      "cell_type": "code",
      "source": [
        "train_df = pd.read_csv(data_path + \"train.csv\")"
      ],
      "metadata": {
        "id": "BAV_k--gO6KU"
      },
      "execution_count": null,
      "outputs": []
    },
    {
      "cell_type": "code",
      "source": [
        "train_df"
      ],
      "metadata": {
        "id": "3Ah1Ynj_PXce"
      },
      "execution_count": null,
      "outputs": []
    },
    {
      "cell_type": "code",
      "execution_count": null,
      "metadata": {
        "id": "YKguyR7UjhSn"
      },
      "outputs": [],
      "source": [
        "# 이미지 유형이 저장된 tag 컬럼을 label 컬럼에 대입\n",
        "train_df[\"label\"] = train_df[\"tag\"]"
      ]
    },
    {
      "cell_type": "code",
      "execution_count": null,
      "metadata": {
        "id": "-GRonWlsixsb"
      },
      "outputs": [],
      "source": [
        "# label 컬럼에 저장된 데이터를 중복을 제거하고 조회\n",
        "train_df[\"label\"].unique()"
      ]
    },
    {
      "cell_type": "code",
      "source": [
        "# enumerate(train_df[\"label\"].unique()) : label 컬럼에 저장된 데이터를 중복을 제거한 값에 인덱스 추가\n",
        "for index, data in enumerate(train_df[\"label\"].unique()):\n",
        "    # label 컬럼에 저장된 data 를 index로 변환\n",
        "    train_df[\"label\"].replace(data, index, inplace=True) "
      ],
      "metadata": {
        "id": "UMh5Smk-Rqk-"
      },
      "execution_count": null,
      "outputs": []
    },
    {
      "cell_type": "code",
      "execution_count": null,
      "metadata": {
        "id": "xhoJpssURtDH"
      },
      "outputs": [],
      "source": [
        "# sklearn.utils.shuffle(train_df) : train_df에 저장된 행을 섞음\n",
        "train_df = sklearn.utils.shuffle(train_df)"
      ]
    },
    {
      "cell_type": "code",
      "execution_count": null,
      "metadata": {
        "id": "M1W3hywCAQU9"
      },
      "outputs": [],
      "source": [
        "# 테스트 데이터의 파일명과 종류가 저장된 train.csv 를 읽음\n",
        "test_df = pd.read_csv(data_path + \"test.csv\")"
      ]
    },
    {
      "cell_type": "code",
      "execution_count": null,
      "metadata": {
        "id": "PGZpAeX0AQU-"
      },
      "outputs": [],
      "source": [
        "# 비디오의 종류가 저장된 tag 컬럼을 label 컬럼에 대입\n",
        "test_df[\"label\"] = test_df[\"tag\"]"
      ]
    },
    {
      "cell_type": "code",
      "execution_count": null,
      "metadata": {
        "id": "XDsvTqKoAQU-"
      },
      "outputs": [],
      "source": [
        "# label 컬럼에 저장된 데이터를 중복을 제거하고 조회\n",
        "test_df[\"label\"].unique()"
      ]
    },
    {
      "cell_type": "code",
      "execution_count": null,
      "metadata": {
        "id": "F7O5FpcsAQU-"
      },
      "outputs": [],
      "source": [
        "# enumerate(test_df[\"label\"].unique()) : label 컬럼에 저장된 데이터를 중복을 제거한 값에 인덱스 추가\n",
        "for index, data in enumerate(test_df[\"label\"].unique()):\n",
        "    # label 컬럼에 저장된 data 를 index로 변환\n",
        "    test_df[\"label\"].replace(data, index, inplace=True) "
      ]
    },
    {
      "cell_type": "code",
      "execution_count": null,
      "metadata": {
        "id": "mSWDpzY-gY2r"
      },
      "outputs": [],
      "source": [
        "text_label = test_df[\"tag\"].unique()"
      ]
    },
    {
      "cell_type": "code",
      "source": [
        "text_label"
      ],
      "metadata": {
        "id": "At6S1usNJGRI"
      },
      "execution_count": null,
      "outputs": []
    },
    {
      "cell_type": "code",
      "execution_count": null,
      "metadata": {
        "id": "2ObMLG6fAQU-"
      },
      "outputs": [],
      "source": [
        "# sklearn.utils.shuffle(test_df) : test_df에 저장된 행을 섞음\n",
        "test_df = sklearn.utils.shuffle(test_df)"
      ]
    },
    {
      "cell_type": "code",
      "execution_count": null,
      "metadata": {
        "id": "jGsvIJiylt8T"
      },
      "outputs": [],
      "source": [
        "#생성자가 생성할 이미지의 세로\n",
        "img_rows = 256\n",
        "#생성자가 생성할 이미지의 가로\n",
        "img_cols = 256\n",
        "#생성자가 생성할 이미지 채널 (컬러이미지)\n",
        "channels = 3\n",
        "\n",
        "# 판별자가 판별할 이미지의 세로 가로 채널\n",
        "img_shape = (img_rows, img_cols, channels)\n",
        "\n",
        "# 생성자가 이미지를 생성할 초기 노이즈 개수\n",
        "z_dim = 256\n",
        "\n",
        "#이미지 파일 경로\n",
        "train_path = \"/content/drive/MyDrive/project_3/cnn/train/\"    \n",
        "\n",
        "test_path = \"/content/drive/MyDrive/project_3/cnn/test/\" "
      ]
    },
    {
      "cell_type": "code",
      "execution_count": null,
      "metadata": {
        "id": "DTC71-4fvU0g"
      },
      "outputs": [],
      "source": [
        "# 이미지의 선택된 부분 리턴\n",
        "# image : 이미지\n",
        "def crop_center_square(image):\n",
        "    return image[700 : 1000, 400 : 700]"
      ]
    },
    {
      "cell_type": "code",
      "source": [
        "# 폴더의 이미지 파일을 읽어서 배열에 담아서 리턴\n",
        "# path : 이미지 파일 경로\n",
        "# resize=(img_rows, img_cols) : 이미지의 세로 가로\n",
        "def load_images(path, resize=(img_rows, img_cols)):\n",
        "\n",
        "    #이미지 파일을 읽어서 리턴\n",
        "    image_arr = cv2.imread(path)\n",
        "    #이미지 가운데 리턴\n",
        "    image_arr = crop_center_square(image_arr)\n",
        "    #이미지의 가로 세로를 resize=(256,256) 로 변환\n",
        "    image_arr = cv2.resize(image_arr, resize)\n",
        "    # image_arr 은  [줄, 칸, B(파랑) G(녹색) R(빨강) ] 로 구성되 있음 \n",
        "    # image_arr [ : (모든줄), : (모든칸), R (인덱스2) G (인덱스1) B (인덱스0 )] 리턴\n",
        "    image_arr = image_arr[:, :, [2, 1, 0]]\n",
        "\n",
        "            \n",
        "    #전체 이미지 파일 리턴        \n",
        "    return image_arr\n"
      ],
      "metadata": {
        "id": "VNBXucbuTsYB"
      },
      "execution_count": null,
      "outputs": []
    },
    {
      "cell_type": "code",
      "source": [
        "data_path+\"train/\"+train_df[\"img_name\"].loc[0]"
      ],
      "metadata": {
        "id": "YUKJmXCHR3ZQ"
      },
      "execution_count": null,
      "outputs": []
    },
    {
      "cell_type": "code",
      "source": [
        "# 비디오 파일의 프레임을 이미지로 변환해서 리턴\n",
        "video = load_images(data_path+\"train/\"+train_df[\"img_name\"].loc[0])"
      ],
      "metadata": {
        "id": "Pq3outJdjh66"
      },
      "execution_count": null,
      "outputs": []
    },
    {
      "cell_type": "code",
      "source": [
        "# 이미지 증강 함수\n",
        "seq = iaa.Sequential([\n",
        "    iaa.Resize({\"height\": img_rows, \"width\": img_cols}),\n",
        "    iaa.Fliplr(0.5), # horizontal flips\n",
        "    iaa.Crop(percent=(0, 0.1)), # random crops\n",
        "    # Small gaussian blur with random sigma between 0 and 0.5.\n",
        "    # But we only blur about 50% of all images.\n",
        "    iaa.Sometimes(\n",
        "        0.5,\n",
        "        # Blur each image with varying strength using\n",
        "        # gaussian blur (sigma between 0 and 3.0),\n",
        "        # average/uniform blur (kernel size between 2x2 and 7x7)\n",
        "        # median blur (kernel size between 3x3 and 11x11).\n",
        "        iaa.OneOf([\n",
        "            iaa.GaussianBlur((0, 3.0)),\n",
        "            iaa.AverageBlur(k=(2, 7)),\n",
        "            iaa.MedianBlur(k=(3, 11)),\n",
        "            ]),\n",
        "    ),\n",
        "    iaa.Sometimes(\n",
        "        0.3,\n",
        "        #Either drop randomly 1 to 10% of all pixels (i.e. set\n",
        "        # them to black) or drop them on an image with 2-5% percent\n",
        "        # of the original size, leading to large dropped\n",
        "        # rectangles.\n",
        "        iaa.OneOf([\n",
        "            iaa.Dropout((0.01, 0.1), per_channel=0.5),\n",
        "            iaa.CoarseDropout(\n",
        "                (0.03, 0.15), size_percent=(0.02, 0.05),\n",
        "                per_channel=0.2\n",
        "            ),\n",
        "        ]),\n",
        "    ),\n",
        "    # crop some of the images by 0-10% of their height/width\n",
        "    iaa.Sometimes(0.3 ,iaa.Crop(percent=(0, 0.1))),\n",
        "    \n",
        "    # Strengthen or weaken the contrast in each image.\n",
        "    iaa.LinearContrast((0.75, 1.5)),\n",
        "    # Add gaussian noise.\n",
        "    # For 50% of all images, we sample the noise once per pixel.\n",
        "    # For the other 50% of all images, we sample the noise per pixel AND\n",
        "    # channel. This can change the color (not only brightness) of the\n",
        "    # pixels.\n",
        "    iaa.AdditiveGaussianNoise(loc=0, scale=(0.0, 0.05*255), per_channel=0.5),\n",
        "    \n",
        "    # Make some images brighter and some darker.\n",
        "    # In 20% of all cases, we sample the multiplier once per channel,\n",
        "    # which can end up changing the color of the images.\n",
        "    iaa.Multiply((0.8, 1.2), per_channel=0.2),\n",
        "    # Apply affine transformations to each image.\n",
        "    # Scale/zoom them, translate/move them, rotate them and shear them.\n",
        "    iaa.Affine(\n",
        "        scale={\"x\": (0.8, 1.2), \"y\": (0.8, 1.2)},\n",
        "        translate_percent={\"x\": (-0.2, 0.2), \"y\": (-0.2, 0.2)},\n",
        "        rotate=(-25, 25),\n",
        "        shear=(-8, 8)\n",
        "    )\n",
        "], random_order=True) # apply augmenters in random order\n"
      ],
      "metadata": {
        "id": "sv0ntkZQS8mD"
      },
      "execution_count": null,
      "outputs": []
    },
    {
      "cell_type": "code",
      "source": [
        "generate_img = seq(image = video)"
      ],
      "metadata": {
        "id": "bdUV2xSbjdC8"
      },
      "execution_count": null,
      "outputs": []
    },
    {
      "cell_type": "code",
      "source": [
        "plt.imshow(generate_img)"
      ],
      "metadata": {
        "id": "KJPi7VE2YkVv"
      },
      "execution_count": null,
      "outputs": []
    },
    {
      "cell_type": "code",
      "source": [
        "# 한개의 이미지를 가져와서 전처리\n",
        "def prepare_all_images(image_name , label, root_dir, is_train):\n",
        "    # 이미지 파일 이름의 개수\n",
        "    num_samples = len(image_name)\n",
        "    # image_name.values.tolist() : 이미지 파일 이름을 리스트로 변환 해서 리턴\n",
        "    image_path = image_name.values.tolist()\n",
        "    # 이미지 종류를 리턴\n",
        "    labels = label.values\n",
        "    # 이미지 종류를 2차원 배열로 변환\n",
        "    labels = labels.reshape(-1,1)\n",
        "    # 0으로 초기화된 [이미지, 256 , 256, 3] 배열 생성\n",
        "    x = np.zeros(shape=(num_samples, img_rows, img_cols, 3 ), dtype=\"float32\" )\n",
        "    # 0으로 초기화된 이미지 배열 생성\n",
        "    y = np.zeros(shape=(num_samples), dtype=\"float32\")\n",
        "\n",
        "    # 이미지 파일의 개수 만큼 반복\n",
        "    for index, path in tqdm( enumerate(image_path) ):\n",
        "        # 이미지 파일을 읽어서 이미지를 리턴\n",
        "        images = load_images(root_dir + path)\n",
        "        # 학습데이터 일때 이미지 증강 (테스트 데이터는 증강 안함)\n",
        "        if is_train:\n",
        "            # 이미지 증강\n",
        "            images = seq(image=images)\n",
        "\n",
        "        # video를  x에 추가\n",
        "        x[index] = np.array(images / 255, dtype=\"float32\")\n",
        "        # 이미지의 종류가 저장된 labels의 index 번째를 y에 추가\n",
        "        y[index]= np.array(labels[index], dtype=\"float32\")\n",
        "        \n",
        "    # to_categorical(y) : 이미지의 종류 y 를 onehot 인코딩 \n",
        "    return (x,to_categorical(y))"
      ],
      "metadata": {
        "id": "CpQn_unBJNf9"
      },
      "execution_count": null,
      "outputs": []
    },
    {
      "cell_type": "code",
      "source": [
        "# 증강된 이미지로 변환한 데이터를 X_train에 저장\n",
        "# 이미지의 종류를 y_train에 저장\n",
        "X_train, y_train = prepare_all_images(train_df[\"img_name\"], \n",
        "                                      train_df[\"label\"] ,\n",
        "                                      data_path + \"train/\",\n",
        "                                      True)"
      ],
      "metadata": {
        "id": "LkE-rrJSJqXu"
      },
      "execution_count": null,
      "outputs": []
    },
    {
      "cell_type": "code",
      "source": [
        "# 증강된 이미지로 변환한 데이터를 X_test에 저장\n",
        "# 이미지의 종류를 y_test에 저장\n",
        "X_test, y_test = prepare_all_images(test_df[\"img_name\"], \n",
        "                                      test_df[\"label\"] ,\n",
        "                                      data_path + \"test/\",\n",
        "                                    False)"
      ],
      "metadata": {
        "id": "ZwOPuTN4U35I"
      },
      "execution_count": null,
      "outputs": []
    },
    {
      "cell_type": "code",
      "source": [
        "plt.imshow(X_train[0])"
      ],
      "metadata": {
        "id": "ZAx7z3PeVh9q"
      },
      "execution_count": null,
      "outputs": []
    },
    {
      "cell_type": "code",
      "source": [
        "# Xception 구조를 갖는 Model생성\n",
        "conv_layers = Xception(\n",
        "                    weights='imagenet', # 이미지넷 대회에서 학습한 필터의 weight 그대로 사용\n",
        "                    include_top=False,  \n",
        "                    input_shape=(img_rows, img_cols, 3) # 이미지의 img_rows, img_cols, 3(컬러)\n",
        "                    )"
      ],
      "metadata": {
        "id": "H-O0pMUznecC"
      },
      "execution_count": null,
      "outputs": []
    },
    {
      "cell_type": "code",
      "source": [
        "model = Sequential()"
      ],
      "metadata": {
        "id": "5rkA_NP-nqNN"
      },
      "execution_count": null,
      "outputs": []
    },
    {
      "cell_type": "code",
      "source": [
        "model.add((conv_layers ))"
      ],
      "metadata": {
        "id": "_8m-yaHEqXEY"
      },
      "execution_count": null,
      "outputs": []
    },
    {
      "cell_type": "code",
      "source": [
        "model.add(Dropout(0.7))"
      ],
      "metadata": {
        "id": "OhMuBRqQuumD"
      },
      "execution_count": null,
      "outputs": []
    },
    {
      "cell_type": "code",
      "source": [
        "model = models.Sequential()\n",
        "model.add(layers.Conv2D(32, (3, 3), activation='relu', input_shape=(256, 256, 3)))\n",
        "model.add(layers.MaxPooling2D((2, 2)))\n",
        "model.add(layers.Conv2D(64, (3, 3), activation='relu'))\n",
        "model.add(Dropout(0.7))\n",
        "model.add(layers.MaxPooling2D((2, 2)))\n",
        "model.add(layers.Conv2D(64, (3, 3), activation='relu'))"
      ],
      "metadata": {
        "id": "l-P37aOW8W6w"
      },
      "execution_count": null,
      "outputs": []
    },
    {
      "cell_type": "code",
      "source": [
        "model.add(layers.Flatten())\n",
        "model.add(layers.Dense(64, activation='relu'))\n",
        "model.add(layers.Dense(2, activation='softmax'))"
      ],
      "metadata": {
        "id": "3SlcpA1Y8aFA"
      },
      "execution_count": null,
      "outputs": []
    },
    {
      "cell_type": "code",
      "source": [
        "model.summary"
      ],
      "metadata": {
        "id": "XFQyp0MhbII2"
      },
      "execution_count": null,
      "outputs": []
    },
    {
      "cell_type": "code",
      "source": [
        "model.compile(\n",
        "                  loss=\"categorical_crossentropy\", \n",
        "                   optimizer=Adam(learning_rate=1e-5),\n",
        "                   metrics=[\"acc\"]\n",
        "              )"
      ],
      "metadata": {
        "id": "p2sfx07b8gZx"
      },
      "execution_count": null,
      "outputs": []
    },
    {
      "cell_type": "code",
      "execution_count": null,
      "metadata": {
        "id": "YWMCgLFegR-t"
      },
      "outputs": [],
      "source": [
        "from keras.callbacks import ModelCheckpoint"
      ]
    },
    {
      "cell_type": "code",
      "source": [
        "tqdm_callback = tfa.callbacks.TQDMProgressBar()"
      ],
      "metadata": {
        "id": "Kg9WdQhSuSEm"
      },
      "execution_count": null,
      "outputs": []
    },
    {
      "cell_type": "code",
      "execution_count": null,
      "metadata": {
        "id": "KI9QH34XqkV5"
      },
      "outputs": [],
      "source": [
        "#모델 학습\n",
        "history = model.fit(\n",
        "\t\t\tX_train , #독립변수\n",
        "            y_train,  #종속 변수\n",
        "            batch_size = 16, # batch_size 4\n",
        "            epochs = 100,# 20번 반복\n",
        "            validation_data=(X_test,y_test)\n",
        "          # callbacks=[tqdm_callback], # 학습시 가장 loss가 낮은 모델을 저장하도록 설정 \n",
        "\t)"
      ]
    },
    {
      "cell_type": "code",
      "execution_count": null,
      "metadata": {
        "id": "bJkGgJ6bgWsk"
      },
      "outputs": [],
      "source": [
        "#best_model을 이용해 정확도 계산\n",
        "model.evaluate(X_test, y_test, batch_size=1)"
      ]
    },
    {
      "cell_type": "code",
      "source": [
        "test_loss, test_acc = model.evaluate(X_test,  y_test, verbose=2)"
      ],
      "metadata": {
        "id": "lRru46vXFUft"
      },
      "execution_count": null,
      "outputs": []
    },
    {
      "cell_type": "code",
      "source": [
        "# 0번째 이미지\n",
        "frame = X_train[0:1]\n",
        "\n",
        "# 이미지의 종류 예측\n",
        "predict01 = model.predict(frame)\n",
        "# 최고값이 있는 인덱스 조회\n",
        "predict02 = np.argmax(predict01, axis=1)\n",
        "# 이미지의 종류 조회\n",
        "text_predict = text_label[predict02]\n",
        "\n",
        "# print(\"text_predict=\", text_predict)"
      ],
      "metadata": {
        "id": "Qu2cr4Cw6bYD"
      },
      "execution_count": null,
      "outputs": []
    },
    {
      "cell_type": "code",
      "source": [
        "# 이미지 image에 대입\n",
        "image = frame[0].copy()\n",
        "plt.imshow(image)"
      ],
      "metadata": {
        "id": "K6RwntlleKMB"
      },
      "execution_count": null,
      "outputs": []
    },
    {
      "cell_type": "code",
      "source": [
        "# 이미지의 종류\n",
        "str = \"Activity :{}\".format(text_predict)\n",
        "# str을 출력할 이미지 좌표\n",
        "org=(0,20) \n",
        "# 이미지 폰트\n",
        "font=cv2.FONT_HERSHEY_PLAIN\n",
        "# image에 str을 출력\n",
        "cv2.putText(image, str,org,font, 1 ,(255,0, 0) , 2)"
      ],
      "metadata": {
        "id": "HYJM8h17gMMB"
      },
      "execution_count": null,
      "outputs": []
    },
    {
      "cell_type": "code",
      "source": [
        "text_label"
      ],
      "metadata": {
        "id": "M9Z9zUaOgXhJ"
      },
      "execution_count": null,
      "outputs": []
    },
    {
      "cell_type": "code",
      "source": [
        "# image에 str (이미지 종류 예측값 ) 출력\n",
        "plt.imshow(image)"
      ],
      "metadata": {
        "id": "xVbt-EFHgP7a"
      },
      "execution_count": null,
      "outputs": []
    },
    {
      "cell_type": "code",
      "execution_count": null,
      "metadata": {
        "id": "7uyC_jsajDSR"
      },
      "outputs": [],
      "source": [
        "# 테스트 데이터의 파일명과 종류가 저장된 train.csv 를 읽음\n",
        "error_df = pd.read_csv(data_path + \"error.csv\")"
      ]
    },
    {
      "cell_type": "code",
      "execution_count": null,
      "metadata": {
        "id": "pzB4VlYujDSR"
      },
      "outputs": [],
      "source": [
        "# 이미지의 종류가 저장된 tag 컬럼을 label 컬럼에 대입\n",
        "error_df[\"label\"] = error_df[\"tag\"]"
      ]
    },
    {
      "cell_type": "code",
      "execution_count": null,
      "metadata": {
        "id": "sVKh6RXljDSS"
      },
      "outputs": [],
      "source": [
        "# label 컬럼에 저장된 데이터를 중복을 제거하고 조회\n",
        "error_df[\"label\"].unique()"
      ]
    },
    {
      "cell_type": "code",
      "execution_count": null,
      "metadata": {
        "id": "SSkimJXajDSS"
      },
      "outputs": [],
      "source": [
        "# enumerate(test_df[\"label\"].unique()) : label 컬럼에 저장된 데이터를 중복을 제거한 값에 인덱스 추가\n",
        "for index, data in enumerate(error_df[\"label\"].unique()):\n",
        "    # label 컬럼에 저장된 data 를 index로 변환\n",
        "    error_df[\"label\"].replace(data, index, inplace=True) "
      ]
    },
    {
      "cell_type": "code",
      "source": [
        "# 이미지를 변환한 데이터를 X_test에 저장\n",
        "# 이미지의 종류를 y_test에 저장\n",
        "new_X_test, new_y_test = prepare_all_images(error_df[\"img_name\"], \n",
        "                                      error_df[\"label\"] ,\n",
        "                                      data_path + \"error/\",\n",
        "                                    False)"
      ],
      "metadata": {
        "id": "3AuOjcYAjWpH"
      },
      "execution_count": null,
      "outputs": []
    },
    {
      "cell_type": "code",
      "source": [
        "# 1번째 이미지\n",
        "frame = new_X_test[1:2]\n",
        "# 이미지의 종류 예측\n",
        "predict01 = model.predict(frame)\n",
        "# 최고값이 있는 인덱스 조회\n",
        "predict02 = np.argmax(predict01, axis=1)\n",
        "# 이미지의 종류 조회\n",
        "text_predict = text_label[predict02]\n",
        "\n",
        "# print(\"text_predict=\", text_predict)"
      ],
      "metadata": {
        "id": "tr_cyEhvjuk2"
      },
      "execution_count": null,
      "outputs": []
    },
    {
      "cell_type": "code",
      "source": [
        "# 1번째 이미지 image에 대입\n",
        "image = frame[0].copy()\n",
        "plt.imshow(image)"
      ],
      "metadata": {
        "id": "1RqDIG3rjuk2"
      },
      "execution_count": null,
      "outputs": []
    },
    {
      "cell_type": "code",
      "source": [
        "# 이미지의 종류\n",
        "str = \"Activity :{}\".format(text_predict)\n",
        "# str을 출력할 이미지 좌표\n",
        "org=(0,20) \n",
        "# 이미지 폰트\n",
        "font=cv2.FONT_HERSHEY_PLAIN\n",
        "# image에 str을 출력\n",
        "cv2.putText(image, str,org,font, 1 ,(255,0, 0) , 2)"
      ],
      "metadata": {
        "id": "gb1fZN86juk3"
      },
      "execution_count": null,
      "outputs": []
    },
    {
      "cell_type": "code",
      "source": [
        "text_label"
      ],
      "metadata": {
        "id": "K9-gQvE_juk3"
      },
      "execution_count": null,
      "outputs": []
    },
    {
      "cell_type": "code",
      "source": [
        "# image에 예측값 출력\n",
        "plt.imshow(image)"
      ],
      "metadata": {
        "id": "DXw0eMROjuk3"
      },
      "execution_count": null,
      "outputs": []
    },
    {
      "cell_type": "code",
      "source": [],
      "metadata": {
        "id": "-E5hdEbajlPg"
      },
      "execution_count": null,
      "outputs": []
    }
  ]
}